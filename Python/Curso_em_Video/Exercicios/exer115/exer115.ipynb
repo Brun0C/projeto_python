{
 "cells": [
  {
   "cell_type": "code",
   "execution_count": 5,
   "id": "f43924e1-dea7-40a4-ab30-7a4d2e7e31f3",
   "metadata": {},
   "outputs": [
    {
     "name": "stdout",
     "output_type": "stream",
     "text": [
      "=================================\n",
      "           MENU PESSOA           \n",
      "=================================\n",
      "\u001b[33m[1] - \u001b[34mCadastrar pessoa\u001b[m\n",
      "\u001b[33m[2] - \u001b[34mListar pessoas cadastradas\u001b[m\n",
      "\n",
      "\u001b[33m[0] - \u001b[34mSair\n",
      "\n"
     ]
    },
    {
     "name": "stdin",
     "output_type": "stream",
     "text": [
      "Escolha uma opção:  1\n"
     ]
    },
    {
     "name": "stdout",
     "output_type": "stream",
     "text": [
      "<function cadastrar at 0x7f5ef4513550>\n",
      "Pessoa cadastrada\n"
     ]
    },
    {
     "ename": "TypeError",
     "evalue": "Menu.menu.criar_menu() argument after * must be an iterable, not NoneType",
     "output_type": "error",
     "traceback": [
      "\u001b[0;31m---------------------------------------------------------------------------\u001b[0m",
      "\u001b[0;31mTypeError\u001b[0m                                 Traceback (most recent call last)",
      "\u001b[0;32m/tmp/ipykernel_396/132663810.py\u001b[0m in \u001b[0;36m<module>\u001b[0;34m\u001b[0m\n\u001b[1;32m      7\u001b[0m     \u001b[0;32mwhile\u001b[0m \u001b[0mir_para\u001b[0m \u001b[0;32mis\u001b[0m \u001b[0;32mnot\u001b[0m \u001b[0;32mNone\u001b[0m\u001b[0;34m:\u001b[0m\u001b[0;34m\u001b[0m\u001b[0;34m\u001b[0m\u001b[0m\n\u001b[1;32m      8\u001b[0m         \u001b[0miniciar_menu\u001b[0m \u001b[0;34m=\u001b[0m \u001b[0mir_para\u001b[0m\u001b[0;34m(\u001b[0m\u001b[0;34m)\u001b[0m\u001b[0;34m\u001b[0m\u001b[0;34m\u001b[0m\u001b[0m\n\u001b[0;32m----> 9\u001b[0;31m         \u001b[0mir_para\u001b[0m \u001b[0;34m=\u001b[0m \u001b[0mmenu\u001b[0m\u001b[0;34m.\u001b[0m\u001b[0mcriar_menu\u001b[0m\u001b[0;34m(\u001b[0m\u001b[0;34m*\u001b[0m\u001b[0miniciar_menu\u001b[0m\u001b[0;34m)\u001b[0m\u001b[0;34m\u001b[0m\u001b[0;34m\u001b[0m\u001b[0m\n\u001b[0m\u001b[1;32m     10\u001b[0m         \u001b[0mprint\u001b[0m\u001b[0;34m(\u001b[0m\u001b[0mir_para\u001b[0m\u001b[0;34m)\u001b[0m\u001b[0;34m\u001b[0m\u001b[0;34m\u001b[0m\u001b[0m\n\u001b[1;32m     11\u001b[0m \u001b[0;34m\u001b[0m\u001b[0m\n",
      "\u001b[0;31mTypeError\u001b[0m: Menu.menu.criar_menu() argument after * must be an iterable, not NoneType"
     ]
    }
   ],
   "source": [
    "from Menu import menus, menu\n",
    "\n",
    "menu_inicial = menus.menu_principal\n",
    "\n",
    "while True:\n",
    "    dados_menu = menu_inicial()\n",
    "    ir_para = menu.criar_menu(*dados_menu)\n",
    "\n",
    "    while ir_para is not None:\n",
    "        dados_menu = ir_para(menu_inicial)\n",
    "        ir_para = menu.criar_menu(*dados_menu)\n",
    "        print(ir_para)\n",
    "        \n",
    "    if not ir_para:\n",
    "        break"
   ]
  },
  {
   "cell_type": "code",
   "execution_count": null,
   "id": "5222f552-2a85-469a-be68-956e65d8f5d3",
   "metadata": {},
   "outputs": [],
   "source": []
  },
  {
   "cell_type": "code",
   "execution_count": null,
   "id": "41dbacb7-b1e2-4872-885c-02060d05589d",
   "metadata": {},
   "outputs": [],
   "source": []
  }
 ],
 "metadata": {
  "kernelspec": {
   "display_name": "Python 3 (ipykernel)",
   "language": "python",
   "name": "python3"
  },
  "language_info": {
   "codemirror_mode": {
    "name": "ipython",
    "version": 3
   },
   "file_extension": ".py",
   "mimetype": "text/x-python",
   "name": "python",
   "nbconvert_exporter": "python",
   "pygments_lexer": "ipython3",
   "version": "3.9.6"
  }
 },
 "nbformat": 4,
 "nbformat_minor": 5
}
