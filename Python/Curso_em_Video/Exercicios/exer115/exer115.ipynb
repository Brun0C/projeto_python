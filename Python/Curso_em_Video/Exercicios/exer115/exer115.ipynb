{
 "cells": [
  {
   "cell_type": "code",
   "execution_count": 2,
   "id": "f8544a2b-dd67-44f7-abd4-4b4859b6875e",
   "metadata": {},
   "outputs": [
    {
     "name": "stdout",
     "output_type": "stream",
     "text": [
      "==========================================\n",
      "              MENU PRINCIPAL              \n",
      "==========================================\n",
      "\u001b[33m[1] - \u001b[34mCadastrar pessoa\u001b[m\n",
      "\u001b[33m[2] - \u001b[34mListar pessoas cadastradas\u001b[m\n",
      "\n",
      "\u001b[33m[0] - \u001b[34mSair\n",
      "\n"
     ]
    },
    {
     "name": "stdin",
     "output_type": "stream",
     "text": [
      "Escolha uma opção:  1\n"
     ]
    }
   ],
   "source": [
    "from lib import lista_menus as lm, menu\n",
    "\n",
    "lista_menu = lm.menu_principal()\n",
    "ir_para = menu.criar_menu(*lista_menu)"
   ]
  },
  {
   "cell_type": "code",
   "execution_count": null,
   "id": "e3be7e4c-90c7-41ec-a539-3d70463f1352",
   "metadata": {},
   "outputs": [],
   "source": []
  }
 ],
 "metadata": {
  "kernelspec": {
   "display_name": "Python 3 (ipykernel)",
   "language": "python",
   "name": "python3"
  },
  "language_info": {
   "codemirror_mode": {
    "name": "ipython",
    "version": 3
   },
   "file_extension": ".py",
   "mimetype": "text/x-python",
   "name": "python",
   "nbconvert_exporter": "python",
   "pygments_lexer": "ipython3",
   "version": "3.9.6"
  }
 },
 "nbformat": 4,
 "nbformat_minor": 5
}
