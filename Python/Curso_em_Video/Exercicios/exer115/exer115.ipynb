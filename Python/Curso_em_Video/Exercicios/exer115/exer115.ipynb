{
 "cells": [
  {
   "cell_type": "code",
   "execution_count": null,
   "id": "f43924e1-dea7-40a4-ab30-7a4d2e7e31f3",
   "metadata": {},
   "outputs": [
    {
     "name": "stdout",
     "output_type": "stream",
     "text": [
      "==========================================\n",
      "              MENU PRINCIPAL              \n",
      "==========================================\n",
      "\u001b[33m[1] - \u001b[34mCadastrar pessoa\u001b[m\n",
      "\u001b[33m[2] - \u001b[34mListar pessoas cadastradas\u001b[m\n",
      "\n",
      "\u001b[33m[0] - \u001b[34mSair\n",
      "\n"
     ]
    }
   ],
   "source": [
    "from menu import menus, menu\n",
    "\n",
    "ir_para = menus.menu_principal\n",
    "voltar_para = {}\n",
    "\n",
    "while ir_para:\n",
    "    titulo = 'Deseja...'\n",
    "    opcoes = {}\n",
    "    dados = ir_para() #se modulo for um menu, retorna uma tupla contendo titulo e opções, senão retorna None\n",
    "    \n",
    "    if dados:\n",
    "        titulo, opcoes = dados #descompacta tupla contendo titulo e opções\n",
    "    \n",
    "    while ir_para in list(voltar_para.values()):\n",
    "        voltar_para.popitem() #remove o valor de 'voltar_para' até que 'ir_para' não esteja contido nele\n",
    "\t\n",
    "    opcoes.update(voltar_para) #adiciona os valores de 'voltar_para' para serem exibidos no menu\n",
    "    voltar_para[f'Voltar ao {titulo}'] = ir_para #caminho percorrido entre menus\n",
    "\t    \n",
    "    ir_para = menu.exibir_menu(titulo, opcoes) #cria o menu e retorna o caminho do modulo seguinte\n",
    "        \n",
    "print('\\nFinalizando o Programa...')"
   ]
  },
  {
   "cell_type": "code",
   "execution_count": null,
   "id": "41dbacb7-b1e2-4872-885c-02060d05589d",
   "metadata": {},
   "outputs": [],
   "source": []
  }
 ],
 "metadata": {
  "kernelspec": {
   "display_name": "Python 3 (ipykernel)",
   "language": "python",
   "name": "python3"
  },
  "language_info": {
   "codemirror_mode": {
    "name": "ipython",
    "version": 3
   },
   "file_extension": ".py",
   "mimetype": "text/x-python",
   "name": "python",
   "nbconvert_exporter": "python",
   "pygments_lexer": "ipython3",
   "version": "3.9.6"
  }
 },
 "nbformat": 4,
 "nbformat_minor": 5
}
