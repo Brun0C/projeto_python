{
 "cells": [
  {
   "cell_type": "markdown",
   "id": "5aaace9c-ed43-4e6a-a8fb-f2862e816a3b",
   "metadata": {},
   "source": [
    "EXERCÍCIO 115\n",
    "\n",
    "Crie um pequeno sistema modularizado que permita cadastrar pessoas pelo seu \"nome\" e \"idade\" em um arquivo de texto simples.\n",
    "\n",
    "O sistema só vai ter 2 opções:\n",
    "    - cadastrar uma pessoa\n",
    "    - listar todas as pessoas cadastradas."
   ]
  },
  {
   "cell_type": "code",
   "execution_count": 2,
   "id": "f43924e1-dea7-40a4-ab30-7a4d2e7e31f3",
   "metadata": {},
   "outputs": [
    {
     "name": "stdout",
     "output_type": "stream",
     "text": [
      "==========================================\n",
      "              MENU PRINCIPAL              \n",
      "==========================================\n",
      "\u001b[33m[1] - \u001b[34mCadastrar pessoa\u001b[m\n",
      "\u001b[33m[2] - \u001b[34mListar pessoas cadastradas\u001b[m\n",
      "\n",
      "\u001b[33m[0] - \u001b[34mSair\u001b[m\n",
      "\n"
     ]
    },
    {
     "name": "stdin",
     "output_type": "stream",
     "text": [
      "Escolha uma opção:  0\n"
     ]
    },
    {
     "name": "stdout",
     "output_type": "stream",
     "text": [
      "Saindo do sistema...\n",
      "\n",
      "Finalizando o Programa...\n"
     ]
    }
   ],
   "source": [
    "from menu import menus, menu\n",
    "from uteis import limpar_tela\n",
    "\n",
    "ir_para = menus.menu_principal\n",
    "voltar_para = {}\n",
    "\n",
    "while ir_para:\n",
    "    limpar_tela()\n",
    "    titulo = 'Deseja...'\n",
    "    opcoes = {}\n",
    "    dados = ir_para() #se modulo for um menu, retorna uma tupla contendo titulo e opções, senão retorna None\n",
    "    \n",
    "    if dados:\n",
    "        titulo, opcoes = dados #descompacta tupla contendo titulo e opções\n",
    "    \n",
    "    while ir_para in list(voltar_para.values()):\n",
    "        voltar_para.popitem() #remove o valor de 'voltar_para' até que 'ir_para' não esteja contido nele\n",
    "\t\n",
    "    opcoes.update(voltar_para) #adiciona os valores de 'voltar_para' para serem exibidos no menu\n",
    "    voltar_para[f'Voltar ao {titulo}'] = ir_para #caminho percorrido entre menus\n",
    "\t    \n",
    "    ir_para = menu.exibir_menu(titulo, opcoes) #cria o menu e retorna o caminho do modulo seguinte\n",
    "        \n",
    "print('\\nFinalizando o Programa...')"
   ]
  },
  {
   "cell_type": "code",
   "execution_count": null,
   "id": "4e5a3c2f-af7e-4625-9926-5ae0311da26b",
   "metadata": {},
   "outputs": [],
   "source": []
  }
 ],
 "metadata": {
  "kernelspec": {
   "display_name": "Python 3 (ipykernel)",
   "language": "python",
   "name": "python3"
  },
  "language_info": {
   "codemirror_mode": {
    "name": "ipython",
    "version": 3
   },
   "file_extension": ".py",
   "mimetype": "text/x-python",
   "name": "python",
   "nbconvert_exporter": "python",
   "pygments_lexer": "ipython3",
   "version": "3.9.6"
  }
 },
 "nbformat": 4,
 "nbformat_minor": 5
}
