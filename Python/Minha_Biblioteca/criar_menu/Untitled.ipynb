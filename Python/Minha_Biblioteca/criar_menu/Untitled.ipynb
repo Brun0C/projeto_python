{
 "cells": [
  {
   "cell_type": "code",
   "execution_count": null,
   "id": "62264c12-0b4f-451e-9872-9cccbb738e3c",
   "metadata": {},
   "outputs": [
    {
     "name": "stdout",
     "output_type": "stream",
     "text": [
      "\u001b[H\u001b[2J======================================\n",
      "            DADOS PESSOAS             \n",
      "======================================\n",
      "[1] - Cadastrar Nova Pessoa\n",
      "[2] - Listar Pessoas Cadastradas\n",
      "[3] - Voltar ao Menu Principal\n",
      "\n",
      "[0] - Sair\n"
     ]
    }
   ],
   "source": [
    "import main\n",
    "\n",
    "main"
   ]
  },
  {
   "cell_type": "code",
   "execution_count": null,
   "id": "a12bc4f8-6243-4163-9b1f-fa586272209a",
   "metadata": {},
   "outputs": [],
   "source": []
  }
 ],
 "metadata": {
  "kernelspec": {
   "display_name": "Python 3 (ipykernel)",
   "language": "python",
   "name": "python3"
  },
  "language_info": {
   "codemirror_mode": {
    "name": "ipython",
    "version": 3
   },
   "file_extension": ".py",
   "mimetype": "text/x-python",
   "name": "python",
   "nbconvert_exporter": "python",
   "pygments_lexer": "ipython3",
   "version": "3.9.6"
  }
 },
 "nbformat": 4,
 "nbformat_minor": 5
}
