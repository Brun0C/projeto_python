{
 "cells": [
  {
   "cell_type": "code",
   "execution_count": null,
   "id": "327a68e9-7140-42b6-95e0-47c99cdcfefe",
   "metadata": {},
   "outputs": [
    {
     "name": "stdout",
     "output_type": "stream",
     "text": [
      "\u001b[H\u001b[2J==================================\n",
      "            DESEJA...             \n",
      "==================================\n",
      "[1] - Voltar ao Menu Principal\n",
      "[2] - Voltar ao Dados Pessoas\n",
      "\n",
      "[0] - Sair\n"
     ]
    }
   ],
   "source": [
    "%run main"
   ]
  },
  {
   "cell_type": "code",
   "execution_count": null,
   "id": "38f023c2-3b86-4deb-b90b-7088269dd9a0",
   "metadata": {},
   "outputs": [],
   "source": []
  }
 ],
 "metadata": {
  "kernelspec": {
   "display_name": "Python 3 (ipykernel)",
   "language": "python",
   "name": "python3"
  },
  "language_info": {
   "codemirror_mode": {
    "name": "ipython",
    "version": 3
   },
   "file_extension": ".py",
   "mimetype": "text/x-python",
   "name": "python",
   "nbconvert_exporter": "python",
   "pygments_lexer": "ipython3",
   "version": "3.9.6"
  }
 },
 "nbformat": 4,
 "nbformat_minor": 5
}
